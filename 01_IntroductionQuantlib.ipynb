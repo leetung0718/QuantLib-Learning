{
 "cells": [
  {
   "attachments": {},
   "cell_type": "markdown",
   "metadata": {},
   "source": [
    "# QuantLib 簡介\n",
    "\n",
    "QuantLib 提供了許多金融數學計算的功能，而這篇文章主要會涵蓋基礎的類別及功能"
   ]
  },
  {
   "cell_type": "code",
   "execution_count": 1,
   "metadata": {},
   "outputs": [],
   "source": [
    "import QuantLib as ql"
   ]
  },
  {
   "attachments": {},
   "cell_type": "markdown",
   "metadata": {},
   "source": [
    "## 時間子模組\n",
    "\n",
    "QuantLib 提供了一個名為 ql/time 的子資料夾，裡面實作了各種時間相關的類別。我們可以看到 Date 物件可以透過給定日期、月份、年份來建立："
   ]
  },
  {
   "cell_type": "code",
   "execution_count": 2,
   "metadata": {},
   "outputs": [
    {
     "name": "stdout",
     "output_type": "stream",
     "text": [
      "31\n",
      "3\n",
      "2015\n",
      "True\n",
      "April 1st, 2015\n",
      "March 30th, 2015\n",
      "April 30th, 2015\n",
      "April 7th, 2015\n",
      "March 31st, 2016\n",
      "True\n"
     ]
    }
   ],
   "source": [
    "# 創建一個日期，日期為 2015 年 3 月 31 日\n",
    "date = ql.Date(31, 3, 2015) \n",
    "\n",
    "# 取出日期中的日、月、年，以及判斷該日期為星期幾\n",
    "print(date.dayOfMonth())  # 輸出：31\n",
    "print(date.month())  # 輸出：3\n",
    "print(date.year())  # 輸出：2015\n",
    "print(date.weekday() == ql.Tuesday)  # 輸出：True\n",
    "\n",
    "# 日期的運算\n",
    "print(date + 1)  # 在日期中加入一天，輸出：2015 年 4 月 1 日\n",
    "print(date - 1)  # 在日期中減去一天，輸出：2015 年 3 月 30 日\n",
    "print(date + ql.Period(1, ql.Months))  # 在日期中加入一個月，輸出：2015 年 4 月 30 日\n",
    "print(date + ql.Period(1, ql.Weeks))  # 在日期中加入一週，輸出：2015 年 4 月 7 日\n",
    "print(date + ql.Period(1, ql.Years))  # 在日期中加入一年，輸出：2016 年 3 月 31 日\n",
    "\n",
    "# 日期的比較\n",
    "print(ql.Date(31, 3, 2015) > ql.Date(1, 3, 2015))  # 輸出：True\n"
   ]
  },
  {
   "attachments": {},
   "cell_type": "markdown",
   "metadata": {},
   "source": [
    "我們可以使用 Schedule 物件來建立日期的序列，例如償還債券的日期。以下是一個例子：\n",
    "這邊我們創建了一個 Schedule 物件，包含了從 date1 到 date2 的日期，並且使用 tenor 指定每月的間隔。calendar 則是用來確定哪些日期為假日。接著的兩個參數是業務日期轉換的慣例，這邊我們選擇的是遇到假日就選擇下一個非假日，所以你可以看到在日期序列中沒有假日的日期。"
   ]
  },
  {
   "cell_type": "code",
   "execution_count": 4,
   "metadata": {},
   "outputs": [
    {
     "name": "stdout",
     "output_type": "stream",
     "text": [
      "[Date(2,1,2015), Date(2,2,2015), Date(2,3,2015), Date(1,4,2015), Date(1,5,2015), Date(1,6,2015), Date(1,7,2015), Date(3,8,2015), Date(1,9,2015), Date(1,10,2015), Date(2,11,2015), Date(1,12,2015), Date(4,1,2016)]\n"
     ]
    }
   ],
   "source": [
    "date1 = ql.Date(1, 1, 2015)\n",
    "date2 = ql.Date(1, 1, 2016)\n",
    "tenor = ql.Period(ql.Monthly)  # 指定每月的期間\n",
    "calendar = ql.UnitedStates(ql.UnitedStates.GovernmentBond)  # 指定美國的曆法\n",
    "\n",
    "# 創建一個行程表物件\n",
    "schedule = ql.Schedule(date1, date2, tenor, calendar, ql.Following, ql.Following, ql.DateGeneration.Forward, False)\n",
    "\n",
    "# 印出行程表中的日期\n",
    "print(list(schedule))"
   ]
  },
  {
   "attachments": {},
   "cell_type": "markdown",
   "metadata": {},
   "source": [
    "## 利率\n",
    "\n",
    "InterestRate 類別可以用來儲存利率，並且指定複利類型、日計數慣例以及複利頻率。以下是創建一個年化利率為 5.0%，該利率按實際天數/實際天數的ISDA約定進行計算並進行年複利。"
   ]
  },
  {
   "cell_type": "code",
   "execution_count": 6,
   "metadata": {},
   "outputs": [],
   "source": [
    "annualRate = 0.05\n",
    "dayCount = ql.ActualActual(ql.ActualActual.ISDA)\n",
    "compoundType = ql.Compounded\n",
    "frequency = ql.Annual\n",
    "interestRate = ql.InterestRate(annualRate, dayCount, compoundType, frequency)"
   ]
  },
  {
   "attachments": {},
   "cell_type": "markdown",
   "metadata": {},
   "source": [
    "在利率為 interestRate 的條件下，若你投資了一美元，則 compoundFactor 函數可以算出在 t 年後你的投資價值為多少。下方是驗證 compoundFactor 計算結果與預期的複利公式是否一致："
   ]
  },
  {
   "cell_type": "code",
   "execution_count": 7,
   "metadata": {},
   "outputs": [
    {
     "name": "stdout",
     "output_type": "stream",
     "text": [
      "1.1025\n",
      "1.1025\n"
     ]
    }
   ],
   "source": [
    "print(interestRate.compoundFactor(2.0))  # 輸出：1.1025\n",
    "print((1.0 + annualRate)*(1.0 + annualRate))  # 檢查上述計算，輸出：1.1025"
   ]
  },
  {
   "attachments": {},
   "cell_type": "markdown",
   "metadata": {},
   "source": [
    "discountFactor 函數則是回傳 compoundFactor 函數的倒數。折現因子在計算未來現金流的現值時非常有用："
   ]
  },
  {
   "cell_type": "code",
   "execution_count": 8,
   "metadata": {},
   "outputs": [
    {
     "name": "stdout",
     "output_type": "stream",
     "text": [
      "0.9070294784580498\n",
      "0.9070294784580498\n"
     ]
    }
   ],
   "source": [
    "print(interestRate.discountFactor(2.0))  # 輸出：0.9070294784580498\n",
    "print(1.0 / interestRate.compoundFactor(2.0))  # 輸出：0.9070294784580498"
   ]
  },
  {
   "attachments": {},
   "cell_type": "markdown",
   "metadata": {},
   "source": [
    "我們也可以將給定的利率轉換成其他類型的利率："
   ]
  },
  {
   "cell_type": "code",
   "execution_count": 9,
   "metadata": {},
   "outputs": [
    {
     "name": "stdout",
     "output_type": "stream",
     "text": [
      "0.04939015319191986\n"
     ]
    }
   ],
   "source": [
    "newFrequency = ql.Semiannual\n",
    "effectiveRate = interestRate.equivalentRate(compoundType, newFrequency, 1)\n",
    "print(effectiveRate.rate())"
   ]
  },
  {
   "attachments": {},
   "cell_type": "markdown",
   "metadata": {},
   "source": [
    "這邊我們將利率轉換成半年複利的型式。4.939% 的半年複利等於 5.0% 的年複利。也就是說，兩者的折現因子應該要相同，我們來驗證一下：這證明了不管我們使用哪種利率轉換方式，計算出的淨現值應該都是一致的（忽略某些精度問題）。"
   ]
  },
  {
   "cell_type": "code",
   "execution_count": 10,
   "metadata": {},
   "outputs": [
    {
     "name": "stdout",
     "output_type": "stream",
     "text": [
      "0.9523809523809523\n",
      "0.9523809523809521\n"
     ]
    }
   ],
   "source": [
    "print(interestRate.discountFactor(1.0))  \n",
    "print(effectiveRate.discountFactor(1.0)) "
   ]
  },
  {
   "attachments": {},
   "cell_type": "markdown",
   "metadata": {},
   "source": [
    "## 結論\n",
    "\n",
    "這篇文章我們瞭解了如何使用 QuantLib 的基礎功能：\n",
    "\n",
    "我們學會了如何使用時間子模組中的 Date 和 Schedule 類別。\n",
    "我們學會了如何使用 InterestRate 類別。\n",
    "這些基礎的功能為金融數學的計算提供了強大的工具，讓我們可以專注在金融模型的建立上，而不需要過多地擔心基礎的計算問題。"
   ]
  }
 ],
 "metadata": {
  "kernelspec": {
   "display_name": "quant",
   "language": "python",
   "name": "python3"
  },
  "language_info": {
   "codemirror_mode": {
    "name": "ipython",
    "version": 3
   },
   "file_extension": ".py",
   "mimetype": "text/x-python",
   "name": "python",
   "nbconvert_exporter": "python",
   "pygments_lexer": "ipython3",
   "version": "3.8.16"
  },
  "orig_nbformat": 4,
  "vscode": {
   "interpreter": {
    "hash": "46d33d01e5720d15a5013799ca97a1bf11234888e1a4f8baa721dca3d047cc65"
   }
  }
 },
 "nbformat": 4,
 "nbformat_minor": 2
}
