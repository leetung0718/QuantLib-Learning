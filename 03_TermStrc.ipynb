{
 "cells": [
  {
   "attachments": {},
   "cell_type": "markdown",
   "metadata": {},
   "source": [
    "# Interest Rate Term Structure\n",
    "\n",
    "這篇文章將介紹在 QuantLib Python 中如何基於給定的存款利率和固定利率債券的收益率，進行收益率曲線的自助法(bootstrapping)建立。所謂自助法，就是從一組給定的利率數據出發，逐步建立完整的收益率曲線。"
   ]
  },
  {
   "cell_type": "code",
   "execution_count": 1,
   "metadata": {},
   "outputs": [],
   "source": [
    "# 導入 QuantLib 庫\n",
    "import QuantLib as ql\n",
    "\n",
    "# 定義列印曲線的函數\n",
    "def print_curve(xlist, ylist, precision=3):\n",
    "    print(\"----------------------\")\n",
    "    print(\"Maturities\\tCurve\")\n",
    "    print(\"----------------------\")\n",
    "    for x, y in zip(xlist, ylist):\n",
    "        print(x, \"\\t\\t\", round(y, precision))\n",
    "    print(\"----------------------\")\n",
    "\n",
    "# 給定存款利率和債券利率\n",
    "depo_maturities = [ql.Period(6,ql.Months), ql.Period(12, ql.Months)]\n",
    "depo_rates = [5.25, 5.5]\n",
    "\n",
    "bond_maturities = [ql.Period(6*i, ql.Months) for i in range(3,21)]\n",
    "bond_rates = [5.75, 6.0, 6.25, 6.5, 6.75, 6.80, 7.00, 7.1, 7.15,\n",
    "              7.2, 7.3, 7.35, 7.4, 7.5, 7.6, 7.6, 7.7, 7.8]\n"
   ]
  },
  {
   "attachments": {},
   "cell_type": "markdown",
   "metadata": {},
   "source": [
    "首先，我們導入 QuantLib 庫，然後定義一個函數來列印出利率曲線。接下來，我們給定了存款的期限和利率，以及固定利率債券的期限和利率。"
   ]
  },
  {
   "cell_type": "code",
   "execution_count": 2,
   "metadata": {},
   "outputs": [],
   "source": [
    "# 定義一些常數和約定\n",
    "calc_date = ql.Date(15, 1, 2015)\n",
    "ql.Settings.instance().evaluationDate = calc_date\n",
    "\n",
    "calendar = ql.UnitedStates(ql.UnitedStates.GovernmentBond)\n",
    "bussiness_convention = ql.Unadjusted\n",
    "day_count = ql.Thirty360(ql.Thirty360.ISDA)\n",
    "end_of_month = True\n",
    "settlement_days = 0\n",
    "face_amount = 100\n",
    "coupon_frequency = ql.Period(ql.Semiannual)\n",
    "settlement_days = 0\n"
   ]
  },
  {
   "attachments": {},
   "cell_type": "markdown",
   "metadata": {},
   "source": [
    "定義了一些計算過程中需要的常數和約定，包括計算的日期、日曆、商業約定、日計數方法、是否月底、結算日數、面值以及優惠券的頻率。"
   ]
  },
  {
   "cell_type": "code",
   "execution_count": 3,
   "metadata": {},
   "outputs": [],
   "source": [
    "# 使用存款利率建立利率助手\n",
    "depo_helpers = [ql.DepositRateHelper(ql.QuoteHandle(ql.SimpleQuote(r/100.0)),\n",
    "                                     m,\n",
    "                                     settlement_days,\n",
    "                                     calendar,\n",
    "                                     bussiness_convention,\n",
    "                                     end_of_month,\n",
    "                                     day_count )\n",
    "                for r, m in zip(depo_rates, depo_maturities)]\n"
   ]
  },
  {
   "attachments": {},
   "cell_type": "markdown",
   "metadata": {},
   "source": [
    "使用存款利率來建立利率助手。利率助手是用於建立收益率曲線的基本構建塊。"
   ]
  },
  {
   "cell_type": "code",
   "execution_count": 4,
   "metadata": {},
   "outputs": [],
   "source": [
    "# 使用固定利率債券利率建立固定利率債券助手\n",
    "bond_helpers = []\n",
    "for r, m in zip(bond_rates, bond_maturities):\n",
    "    termination_date = calc_date + m\n",
    "    schedule = ql.Schedule(calc_date,\n",
    "                   termination_date,\n",
    "                   coupon_frequency,\n",
    "                   calendar,\n",
    "                   bussiness_convention,\n",
    "                   bussiness_convention,\n",
    "                   ql.DateGeneration.Backward,\n",
    "                   end_of_month)\n",
    "\n",
    "    helper = ql.FixedRateBondHelper(ql.QuoteHandle(ql.SimpleQuote(face_amount)),\n",
    "                                        settlement_days,\n",
    "                                        face_amount,\n",
    "                                        schedule,\n",
    "                                        [r/100.0],\n",
    "                                        day_count,\n",
    "                                        bussiness_convention,\n",
    "                                        )\n",
    "    bond_helpers.append(helper)\n"
   ]
  },
  {
   "attachments": {},
   "cell_type": "markdown",
   "metadata": {},
   "source": [
    "使用固定利率債券的利率來建立固定利率債券助手。"
   ]
  },
  {
   "cell_type": "code",
   "execution_count": 5,
   "metadata": {},
   "outputs": [],
   "source": [
    "# 用兩種助手來建立收益率曲線\n",
    "rate_helpers = depo_helpers + bond_helpers\n",
    "yieldcurve = ql.PiecewiseLogCubicDiscount(calc_date,\n",
    "                             rate_helpers,\n",
    "                             day_count)\n"
   ]
  },
  {
   "attachments": {},
   "cell_type": "markdown",
   "metadata": {},
   "source": [
    "將兩種助手組合在一起來構造收益率曲線。"
   ]
  },
  {
   "cell_type": "code",
   "execution_count": 6,
   "metadata": {},
   "outputs": [],
   "source": [
    "# 獲取即期利率\n",
    "spots = []\n",
    "tenors = []\n",
    "for d in yieldcurve.dates():\n",
    "    yrs = day_count.yearFraction(calc_date, d)\n",
    "    compounding = ql.Compounded\n",
    "    freq = ql.Semiannual\n",
    "    zero_rate = yieldcurve.zeroRate(yrs, compounding, freq)\n",
    "    tenors.append(yrs)\n",
    "    eq_rate = zero_rate.equivalentRate(day_count,\n",
    "                                       compounding,\n",
    "                                       freq,\n",
    "                                       calc_date,\n",
    "                                       d).rate()\n",
    "    spots.append(100*eq_rate)\n"
   ]
  },
  {
   "attachments": {},
   "cell_type": "markdown",
   "metadata": {},
   "source": [
    "最後，我們使用 zeroRate 方法從 yieldcurve 物件中獲取即期利率。以上就是利用 QuantLib Python 進行收益率曲線的自助法(bootstrapping)建立的流程。其中，\"deposit rate helpers\" 和 \"fixed rate bond helpers\" 是基於給定的利率數據建立的基本構建塊，然後再將這些構建塊組合在一起構造收益率曲線。最後，即期利率可以從收益率曲線中獲取。"
   ]
  },
  {
   "cell_type": "code",
   "execution_count": 10,
   "metadata": {},
   "outputs": [
    {
     "name": "stdout",
     "output_type": "stream",
     "text": [
      "----------------------\n",
      "Maturities\tCurve\n",
      "----------------------\n",
      "0.0 \t\t 0.0\n",
      "0.5 \t\t 5.25\n",
      "1.0 \t\t 5.426\n",
      "1.5 \t\t 5.761\n",
      "2.0 \t\t 6.02\n",
      "2.5 \t\t 6.283\n",
      "3.0 \t\t 6.55\n",
      "3.5 \t\t 6.822\n",
      "4.0 \t\t 6.87\n",
      "4.5 \t\t 7.095\n",
      "5.0 \t\t 7.205\n",
      "5.5 \t\t 7.257\n",
      "6.0 \t\t 7.31\n",
      "6.5 \t\t 7.429\n",
      "7.0 \t\t 7.485\n",
      "7.5 \t\t 7.543\n",
      "8.0 \t\t 7.671\n",
      "8.5 \t\t 7.802\n",
      "9.0 \t\t 7.791\n",
      "9.5 \t\t 7.929\n",
      "10.0 \t\t 8.072\n",
      "----------------------\n"
     ]
    }
   ],
   "source": [
    "print_curve(tenors, spots)"
   ]
  },
  {
   "attachments": {},
   "cell_type": "markdown",
   "metadata": {},
   "source": [
    "## 核心概念\n",
    "\n",
    "- \"Term Structure\" 或稱為 \"利率期限結構\"，它對於訂價證券是關鍵性的。在 QuantLib 中，我們需要建立一個 YieldTermStructure 物件來進行利率的計算和模擬。\n",
    "- \"Bootstrap\" 或稱為 \"自助法\"，是一種在給定一部分市場數據（如債券價格，存款利率等）的前提下，構造出完整的利率期限結構的方法。\n",
    "- \"Yield Curve\" 或稱為 \"收益率曲線\"，是一種描述不同期限的債券的收益率與其期限之間關係的曲線。在此教學中，我們使用存款利率和債券利率來構造收益率曲線。\n",
    "- \"Spot Rates\" 或稱為 \"即期利率\"，是指無風險投資在特定時間點的利率。即期利率可以用來評價和計算衍生品。"
   ]
  },
  {
   "cell_type": "code",
   "execution_count": null,
   "metadata": {},
   "outputs": [],
   "source": []
  }
 ],
 "metadata": {
  "kernelspec": {
   "display_name": "quant",
   "language": "python",
   "name": "python3"
  },
  "language_info": {
   "codemirror_mode": {
    "name": "ipython",
    "version": 3
   },
   "file_extension": ".py",
   "mimetype": "text/x-python",
   "name": "python",
   "nbconvert_exporter": "python",
   "pygments_lexer": "ipython3",
   "version": "3.8.16"
  },
  "orig_nbformat": 4,
  "vscode": {
   "interpreter": {
    "hash": "46d33d01e5720d15a5013799ca97a1bf11234888e1a4f8baa721dca3d047cc65"
   }
  }
 },
 "nbformat": 4,
 "nbformat_minor": 2
}
