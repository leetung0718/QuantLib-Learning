{
 "cells": [
  {
   "cell_type": "markdown",
   "metadata": {},
   "source": [
    "# Valuing European Option Using the Heston Model\n",
    "\n",
    "Heston 用於衍生性商品定價，特別是選擇權，他與 BSM 的主要區別是此模型設定【隨機波動率】，在下面的例子將對一個具有特定條件的歐式認購選擇權，進行兩個模型的定價。"
   ]
  },
  {
   "cell_type": "code",
   "execution_count": 1,
   "metadata": {},
   "outputs": [],
   "source": [
    "import QuantLib as ql"
   ]
  },
  {
   "cell_type": "markdown",
   "metadata": {},
   "source": [
    "設定選擇權的條件"
   ]
  },
  {
   "cell_type": "code",
   "execution_count": 47,
   "metadata": {},
   "outputs": [],
   "source": [
    "# Option Data\n",
    "maturity_date = ql.Date(15, 1, 2025)\n",
    "spot_price = 127.62\n",
    "strike_price = 130\n",
    "volatility = 0.20\n",
    "dividend_rate = 0.0163\n",
    "option_type = ql.Option.Call\n",
    "\n",
    "risk_free_rate = 0.05\n",
    "day_count = ql.Actual365Fixed()\n",
    "calendar = ql.UnitedStates(ql.UnitedStates.Settlement)\n",
    "\n",
    "calculation_date = ql.Date(8, 5, 2023)\n",
    "ql.Settings.instance().evaluationDate = calculation_date"
   ]
  },
  {
   "cell_type": "markdown",
   "metadata": {},
   "source": [
    "建構歐式選擇權"
   ]
  },
  {
   "cell_type": "code",
   "execution_count": 48,
   "metadata": {},
   "outputs": [],
   "source": [
    "# construct the European Option\n",
    "payoff = ql.PlainVanillaPayoff(option_type, strike_price)\n",
    "exercise = ql.EuropeanExercise(maturity_date)\n",
    "european_option = ql.VanillaOption(payoff, exercise)"
   ]
  },
  {
   "cell_type": "markdown",
   "metadata": {},
   "source": [
    "使用 Heston"
   ]
  },
  {
   "cell_type": "code",
   "execution_count": 49,
   "metadata": {},
   "outputs": [
    {
     "name": "stdout",
     "output_type": "stream",
     "text": [
      "The Heston model price is  14.954467680045894\n"
     ]
    }
   ],
   "source": [
    "# Heston model parameters\n",
    "v0 = volitility**2\n",
    "kappa = 0.1\n",
    "theta = v0\n",
    "sigma = 0.1\n",
    "rho = -0.75\n",
    "\n",
    "# construct the Heston process\n",
    "heston_process = ql.HestonProcess(ql.YieldTermStructureHandle(ql.FlatForward(calculation_date, risk_free_rate, day_count)),\n",
    "                                  ql.YieldTermStructureHandle(ql.FlatForward(calculation_date, dividend_rate, day_count)),\n",
    "                                  ql.QuoteHandle(ql.SimpleQuote(spot_price)),\n",
    "                                  v0, kappa, theta, sigma, rho\n",
    "                                  )\n",
    "\n",
    "# price the option using the Heston model \n",
    "engine = ql.AnalyticHestonEngine(ql.HestonModel(heston_process), 0.01, 1000)\n",
    "european_option.setPricingEngine(engine)\n",
    "h_price = european_option.NPV()\n",
    "print(\"The Heston model price is \", h_price)"
   ]
  },
  {
   "cell_type": "markdown",
   "metadata": {},
   "source": [
    "使用 Black-Scholes-Merton(BSM)"
   ]
  },
  {
   "cell_type": "code",
   "execution_count": 50,
   "metadata": {},
   "outputs": [
    {
     "name": "stdout",
     "output_type": "stream",
     "text": [
      "The BSM model price is  15.096346835971012\n"
     ]
    }
   ],
   "source": [
    "spot_handle = ql.QuoteHandle(ql.SimpleQuote(spot_price))\n",
    "risk_free_rate_ts = ql.YieldTermStructureHandle(ql.FlatForward(calculation_date, risk_free_rate, day_count))\n",
    "dividend_yield_ts = ql.YieldTermStructureHandle(ql.FlatForward(calculation_date, dividend_rate, day_count))\n",
    "flat_vol_ts = ql.BlackVolTermStructureHandle(ql.BlackConstantVol(calculation_date, calendar, volatility, day_count))\n",
    "\n",
    "bsm_process = ql.BlackScholesMertonProcess(spot_handle,\n",
    "                                            dividend_yield_ts,\n",
    "                                            risk_free_rate_ts,\n",
    "                                            flat_vol_ts)\n",
    "\n",
    "european_option.setPricingEngine(ql.AnalyticEuropeanEngine(bsm_process))\n",
    "bs_price = european_option.NPV()\n",
    "print(\"The BSM model price is \", bs_price)"
   ]
  },
  {
   "cell_type": "markdown",
   "metadata": {},
   "source": [
    "### Conclusion\n",
    "\n",
    "兩個價格不同的主因是對於【波動率】的假設不同\n",
    "\n",
    "1. BSM，假設資產價格的波動率恆定\n",
    "2. Heston，則允許波動率為一個隨機過程"
   ]
  }
 ],
 "metadata": {
  "kernelspec": {
   "display_name": "Python 3",
   "language": "python",
   "name": "python3"
  },
  "language_info": {
   "codemirror_mode": {
    "name": "ipython",
    "version": 3
   },
   "file_extension": ".py",
   "mimetype": "text/x-python",
   "name": "python",
   "nbconvert_exporter": "python",
   "pygments_lexer": "ipython3",
   "version": "3.8.3"
  }
 },
 "nbformat": 4,
 "nbformat_minor": 4
}
